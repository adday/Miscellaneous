{
 "cells": [
  {
   "cell_type": "markdown",
   "metadata": {},
   "source": [
    "$\\newcommand{\\xv}{\\mathbf{x}}\n",
    "\\newcommand{\\Xv}{\\mathbf{X}}\n",
    "\\newcommand{\\yv}{\\mathbf{y}}\n",
    "\\newcommand{\\zv}{\\mathbf{z}}\n",
    "\\newcommand{\\av}{\\mathbf{a}}\n",
    "\\newcommand{\\Wv}{\\mathbf{W}}\n",
    "\\newcommand{\\wv}{\\mathbf{w}}\n",
    "\\newcommand{\\tv}{\\mathbf{t}}\n",
    "\\newcommand{\\Tv}{\\mathbf{T}}\n",
    "\\newcommand{\\muv}{\\boldsymbol{\\mu}}\n",
    "\\newcommand{\\sigmav}{\\boldsymbol{\\sigma}}\n",
    "\\newcommand{\\phiv}{\\boldsymbol{\\phi}}\n",
    "\\newcommand{\\Phiv}{\\boldsymbol{\\Phi}}\n",
    "\\newcommand{\\Sigmav}{\\boldsymbol{\\Sigma}}\n",
    "\\newcommand{\\Lambdav}{\\boldsymbol{\\Lambda}}\n",
    "\\newcommand{\\half}{\\frac{1}{2}}\n",
    "\\newcommand{\\argmax}[1]{\\underset{#1}{\\operatorname{argmax}}}\n",
    "\\newcommand{\\argmin}[1]{\\underset{#1}{\\operatorname{argmin}}}$"
   ]
  },
  {
   "cell_type": "markdown",
   "metadata": {},
   "source": [
    "# Assignment 5: Reinforcement Learning Solution to Visual Tic-Tac-Toe"
   ]
  },
  {
   "cell_type": "markdown",
   "metadata": {},
   "source": [
    "Alexander Day"
   ]
  },
  {
   "cell_type": "markdown",
   "metadata": {},
   "source": [
    "## Overview"
   ]
  },
  {
   "cell_type": "markdown",
   "metadata": {},
   "source": [
    "You will modify the Tic-Tac-Toe code presented in lecture notes [25 Tic-Tac-Toe with Neural Network Q Function](http://www.cs.colostate.edu/~anderson/cs480/notebooks/25 Tic-Tac-Toe with Neural Network Q Function.ipynb).  Instead of using the board representation of nine integers with values -1, 0 or 1, you will represent the board with an image consisting of 0's for empty pixels and 1's for filled pixels."
   ]
  },
  {
   "cell_type": "markdown",
   "metadata": {},
   "source": [
    "## Requirements"
   ]
  },
  {
   "cell_type": "markdown",
   "metadata": {},
   "source": [
    "The state of the board as input to the neural network is a flattened image.  For example, if you create images of X as a 7x7 array and of O as a 7x7 array, then the image of the board can be a 21x21 array into which you assign the values of the X image array or the O image array to represent each move.\n",
    "\n",
    "Since each state must be a row vector for the neural network, just reshape the board image to a 1 x $21^2$ row vector.  \n",
    "\n",
    "Experiment with the parameters of\n",
    "\n",
    " * number of games\n",
    " * nubmer of games per batch\n",
    " * number of SCG iterations per batch\n",
    " * number of hidden layers and units in each layer\n",
    " * gamma\n",
    " * final epsilon\n",
    " \n",
    "until you find values that show a good learning result.  A good learning result is one for which the number of wins (blue curve in top graph) increases slowly and remains high, although it will always be fluctuating.\n",
    "\n",
    "Come up with some ways to visualize what the units in the hidden layers are doing.  For example, you can visualize the weights in the first layer's hidden units as a square image of corresponding to the board. You can also find samples for which a unit's output is the highest.\n",
    "\n",
    "Discuss what you can interpret from these displays.  Relate your interpretations to the tic-tac-toe game."
   ]
  },
  {
   "cell_type": "markdown",
   "metadata": {
    "collapsed": true
   },
   "source": [
    "# Extra Credit\n",
    "\n",
    "In addition to solving the Tic-Tac-Toe game, create a second version of your code and apply it similarly to another simple game."
   ]
  }
 ],
 "metadata": {
  "kernelspec": {
   "display_name": "Python 3",
   "language": "python",
   "name": "python3"
  },
  "language_info": {
   "codemirror_mode": {
    "name": "ipython",
    "version": 3
   },
   "file_extension": ".py",
   "mimetype": "text/x-python",
   "name": "python",
   "nbconvert_exporter": "python",
   "pygments_lexer": "ipython3",
   "version": "3.5.1"
  }
 },
 "nbformat": 4,
 "nbformat_minor": 0
}
